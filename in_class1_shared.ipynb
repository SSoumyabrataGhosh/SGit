{
  "nbformat": 4,
  "nbformat_minor": 0,
  "metadata": {
    "colab": {
      "provenance": [],
      "include_colab_link": true
    },
    "kernelspec": {
      "name": "python3",
      "display_name": "Python 3"
    },
    "accelerator": "GPU"
  },
  "cells": [
    {
      "cell_type": "markdown",
      "metadata": {
        "id": "view-in-github",
        "colab_type": "text"
      },
      "source": [
        "<a href=\"https://colab.research.google.com/github/SSoumyabrataGhosh/SGit/blob/master/in_class1_shared.ipynb\" target=\"_parent\"><img src=\"https://colab.research.google.com/assets/colab-badge.svg\" alt=\"Open In Colab\"/></a>"
      ]
    },
    {
      "cell_type": "code",
      "metadata": {
        "id": "XktyGJmmyS1L",
        "colab": {
          "base_uri": "https://localhost:8080/"
        },
        "outputId": "2748b630-e2d8-4fd0-c4e4-919bc940fe2a"
      },
      "source": [
        "print(\"Hello World\")"
      ],
      "execution_count": 2,
      "outputs": [
        {
          "output_type": "stream",
          "name": "stdout",
          "text": [
            "Hello World\n"
          ]
        }
      ]
    },
    {
      "cell_type": "code",
      "source": [
        "print('Hello World ')"
      ],
      "metadata": {
        "colab": {
          "base_uri": "https://localhost:8080/"
        },
        "id": "iCaGnXRB5R6l",
        "outputId": "907a4c5c-05d9-41dc-8192-0b37dda862ef"
      },
      "execution_count": 3,
      "outputs": [
        {
          "output_type": "stream",
          "name": "stdout",
          "text": [
            "Hello World \n"
          ]
        }
      ]
    },
    {
      "cell_type": "code",
      "source": [
        "print(\"Hello World \")"
      ],
      "metadata": {
        "colab": {
          "base_uri": "https://localhost:8080/"
        },
        "id": "HlBP_Rq_5cDq",
        "outputId": "a03d93c9-3b58-4031-8aed-fdfc81d01819"
      },
      "execution_count": 6,
      "outputs": [
        {
          "output_type": "stream",
          "name": "stdout",
          "text": [
            "Hello World \n"
          ]
        }
      ]
    },
    {
      "cell_type": "code",
      "source": [
        "print(\"Hello\", \"World\")"
      ],
      "metadata": {
        "colab": {
          "base_uri": "https://localhost:8080/"
        },
        "id": "P2psy8-85nkx",
        "outputId": "60bb5b71-54f2-47d4-95fc-b83ad73d7048"
      },
      "execution_count": 7,
      "outputs": [
        {
          "output_type": "stream",
          "name": "stdout",
          "text": [
            "Hello World\n"
          ]
        }
      ]
    },
    {
      "cell_type": "code",
      "source": [
        "print('it's great!')"
      ],
      "metadata": {
        "colab": {
          "base_uri": "https://localhost:8080/",
          "height": 176
        },
        "id": "YI2HpRPw55Tc",
        "outputId": "9f1790db-8905-4f8a-d046-f289f6480b95"
      },
      "execution_count": 8,
      "outputs": [
        {
          "output_type": "error",
          "ename": "SyntaxError",
          "evalue": "ignored",
          "traceback": [
            "\u001b[0;36m  File \u001b[0;32m\"<ipython-input-8-6211498bb5c7>\"\u001b[0;36m, line \u001b[0;32m1\u001b[0m\n\u001b[0;31m    print('it's great!')\u001b[0m\n\u001b[0m                      ^\u001b[0m\n\u001b[0;31mSyntaxError\u001b[0m\u001b[0;31m:\u001b[0m unterminated string literal (detected at line 1)\n"
          ]
        }
      ]
    },
    {
      "cell_type": "code",
      "source": [
        "print(\"it's great!\")"
      ],
      "metadata": {
        "colab": {
          "base_uri": "https://localhost:8080/"
        },
        "id": "AmBvvTtg6JrJ",
        "outputId": "feb07705-d7d5-4ac3-a3e8-509670d7dc0e"
      },
      "execution_count": 9,
      "outputs": [
        {
          "output_type": "stream",
          "name": "stdout",
          "text": [
            "it's great!\n"
          ]
        }
      ]
    },
    {
      "cell_type": "code",
      "source": [
        "\n",
        "print (\"\"\"\n",
        "Some say the world will end in fire,\n",
        "Some say in ice.\n",
        "From what I’ve tasted of desire\n",
        "I hold with those who favor fire.\n",
        "But if it had to perish twice,\n",
        "I think I know enough of hate\n",
        "To say that for destruction ice\n",
        "Is also great\n",
        "And would suffice.\n",
        "\"\"\")"
      ],
      "metadata": {
        "colab": {
          "base_uri": "https://localhost:8080/"
        },
        "id": "RdW4TWuj6hul",
        "outputId": "32e396c0-5430-4845-946d-0e1743501fdc"
      },
      "execution_count": 10,
      "outputs": [
        {
          "output_type": "stream",
          "name": "stdout",
          "text": [
            "\n",
            "Some say the world will end in fire,\n",
            "Some say in ice.\n",
            "From what I’ve tasted of desire\n",
            "I hold with those who favor fire.\n",
            "But if it had to perish twice,\n",
            "I think I know enough of hate\n",
            "To say that for destruction ice\n",
            "Is also great\n",
            "And would suffice.\n",
            "\n"
          ]
        }
      ]
    },
    {
      "cell_type": "code",
      "source": [
        "print('\\\\')"
      ],
      "metadata": {
        "colab": {
          "base_uri": "https://localhost:8080/"
        },
        "id": "xJLtEz_q6v_A",
        "outputId": "98f22106-c941-4036-c5c2-d8d54d3b04c7"
      },
      "execution_count": 11,
      "outputs": [
        {
          "output_type": "stream",
          "name": "stdout",
          "text": [
            "\\\n"
          ]
        }
      ]
    },
    {
      "cell_type": "code",
      "source": [
        "print('Python\\'s den')"
      ],
      "metadata": {
        "colab": {
          "base_uri": "https://localhost:8080/"
        },
        "id": "6P7Rrb247Ui9",
        "outputId": "37447438-c853-4f83-8fc7-f711c91a4a67"
      },
      "execution_count": 12,
      "outputs": [
        {
          "output_type": "stream",
          "name": "stdout",
          "text": [
            "Python's den\n"
          ]
        }
      ]
    },
    {
      "cell_type": "code",
      "source": [
        "print('apple\\norange')"
      ],
      "metadata": {
        "colab": {
          "base_uri": "https://localhost:8080/"
        },
        "id": "ujQNkGkn7gPE",
        "outputId": "a0ff0582-b1c4-4823-f4d2-552787960f28"
      },
      "execution_count": 13,
      "outputs": [
        {
          "output_type": "stream",
          "name": "stdout",
          "text": [
            "apple\n",
            "orange\n"
          ]
        }
      ]
    },
    {
      "cell_type": "code",
      "source": [
        "print('apple\\torange')"
      ],
      "metadata": {
        "colab": {
          "base_uri": "https://localhost:8080/"
        },
        "id": "8TWUP-Ax7w-l",
        "outputId": "35ccf6bf-9862-4a91-ae19-494a37846e4e"
      },
      "execution_count": 14,
      "outputs": [
        {
          "output_type": "stream",
          "name": "stdout",
          "text": [
            "apple\torange\n"
          ]
        }
      ]
    },
    {
      "cell_type": "code",
      "source": [
        "print(\"My name is\", \"Steve Jobs\", end=\" \")\n",
        "print(\"What is your name?\")"
      ],
      "metadata": {
        "colab": {
          "base_uri": "https://localhost:8080/"
        },
        "id": "72oTZB5Y8C0l",
        "outputId": "5f637850-405a-4a1f-a810-07e53e100146"
      },
      "execution_count": 15,
      "outputs": [
        {
          "output_type": "stream",
          "name": "stdout",
          "text": [
            "My name is Steve Jobs What is your name?\n"
          ]
        }
      ]
    },
    {
      "cell_type": "code",
      "source": [
        "print(\"My name is\", \"Steve Jobs\", sep=\"-\")\n",
        "print(\"What is your name?\")"
      ],
      "metadata": {
        "colab": {
          "base_uri": "https://localhost:8080/"
        },
        "id": "XxpIB-mF8nlq",
        "outputId": "845939e2-d73c-40f2-9f81-a282e18f670a"
      },
      "execution_count": 16,
      "outputs": [
        {
          "output_type": "stream",
          "name": "stdout",
          "text": [
            "My name is-Steve Jobs\n",
            "What is your name?\n"
          ]
        }
      ]
    },
    {
      "cell_type": "code",
      "source": [
        "print(\"Programming\", \"Essentials\", \"in\", \"Python\")"
      ],
      "metadata": {
        "colab": {
          "base_uri": "https://localhost:8080/"
        },
        "id": "lcZtjbVh84Ck",
        "outputId": "98818e59-189e-49b1-800e-7c4def642507"
      },
      "execution_count": 17,
      "outputs": [
        {
          "output_type": "stream",
          "name": "stdout",
          "text": [
            "Programming Essentials in Python\n"
          ]
        }
      ]
    },
    {
      "cell_type": "code",
      "source": [
        "print(\"Programming\", \"Essentials\", \"in\", sep=\"***\", end=\"...\")\n",
        "print(\"Python\")"
      ],
      "metadata": {
        "colab": {
          "base_uri": "https://localhost:8080/"
        },
        "id": "LasGcmoG9V0s",
        "outputId": "9414b4f9-167f-4a85-d89e-730cf459ae1d"
      },
      "execution_count": 32,
      "outputs": [
        {
          "output_type": "stream",
          "name": "stdout",
          "text": [
            "Programming***Essentials***in...Python\n"
          ]
        }
      ]
    },
    {
      "cell_type": "code",
      "source": [
        "print(111_111)"
      ],
      "metadata": {
        "colab": {
          "base_uri": "https://localhost:8080/"
        },
        "id": "_Dc5a-Xr__xi",
        "outputId": "9cb91971-079b-4852-d7a2-67fbe9aa70e7"
      },
      "execution_count": 33,
      "outputs": [
        {
          "output_type": "stream",
          "name": "stdout",
          "text": [
            "111111\n"
          ]
        }
      ]
    },
    {
      "cell_type": "code",
      "source": [
        "print(-+3)"
      ],
      "metadata": {
        "colab": {
          "base_uri": "https://localhost:8080/"
        },
        "id": "54F9WCx2AUv-",
        "outputId": "d5dd7702-cc3c-4bd1-a911-c0f55cd74dc9"
      },
      "execution_count": 34,
      "outputs": [
        {
          "output_type": "stream",
          "name": "stdout",
          "text": [
            "-3\n"
          ]
        }
      ]
    },
    {
      "cell_type": "code",
      "source": [
        "print(-+-3)"
      ],
      "metadata": {
        "colab": {
          "base_uri": "https://localhost:8080/"
        },
        "id": "Qt7HKz8UAZqi",
        "outputId": "6516e14f-1e8c-4584-a7b0-76d954e23578"
      },
      "execution_count": 35,
      "outputs": [
        {
          "output_type": "stream",
          "name": "stdout",
          "text": [
            "3\n"
          ]
        }
      ]
    },
    {
      "cell_type": "code",
      "source": [
        "\n",
        "print(0o123)"
      ],
      "metadata": {
        "colab": {
          "base_uri": "https://localhost:8080/"
        },
        "id": "HdUnegaTAu-s",
        "outputId": "802be13f-37bc-465b-a5e2-7736fa9f2e56"
      },
      "execution_count": 36,
      "outputs": [
        {
          "output_type": "stream",
          "name": "stdout",
          "text": [
            "83\n"
          ]
        }
      ]
    },
    {
      "cell_type": "code",
      "source": [
        "print(0x123)"
      ],
      "metadata": {
        "colab": {
          "base_uri": "https://localhost:8080/"
        },
        "id": "p3eMLcKRBDue",
        "outputId": "6793f8c1-8185-4c12-921b-326fc79a8a60"
      },
      "execution_count": 39,
      "outputs": [
        {
          "output_type": "stream",
          "name": "stdout",
          "text": [
            "291\n"
          ]
        }
      ]
    },
    {
      "cell_type": "code",
      "source": [],
      "metadata": {
        "id": "-thEO3p6BWa1"
      },
      "execution_count": null,
      "outputs": []
    },
    {
      "cell_type": "code",
      "source": [
        "#Float\n",
        "\n",
        "print(-0.5)"
      ],
      "metadata": {
        "colab": {
          "base_uri": "https://localhost:8080/"
        },
        "id": "2qH9MbSkBF_H",
        "outputId": "c60978a4-9a5c-48f9-ea4d-e887525bcd3e"
      },
      "execution_count": 38,
      "outputs": [
        {
          "output_type": "stream",
          "name": "stdout",
          "text": [
            "-0.5\n"
          ]
        }
      ]
    },
    {
      "cell_type": "code",
      "source": [
        "print(3E8)"
      ],
      "metadata": {
        "colab": {
          "base_uri": "https://localhost:8080/"
        },
        "id": "wzmp4zftBb8W",
        "outputId": "e5f69706-2eb2-4075-f9b9-95c6a01759f6"
      },
      "execution_count": 40,
      "outputs": [
        {
          "output_type": "stream",
          "name": "stdout",
          "text": [
            "300000000.0\n"
          ]
        }
      ]
    },
    {
      "cell_type": "code",
      "source": [
        "#strings\n",
        "\n",
        "print(\"I like Yoon\\'s class\")"
      ],
      "metadata": {
        "colab": {
          "base_uri": "https://localhost:8080/"
        },
        "id": "HIci6KpzBkRA",
        "outputId": "ad88dd80-2ba4-46f8-e8cd-11c6136d2d9f"
      },
      "execution_count": 46,
      "outputs": [
        {
          "output_type": "stream",
          "name": "stdout",
          "text": [
            "I like Yoon's class\n"
          ]
        }
      ]
    },
    {
      "cell_type": "code",
      "source": [],
      "metadata": {
        "id": "pHPpedkKCiKo"
      },
      "execution_count": null,
      "outputs": []
    },
    {
      "cell_type": "code",
      "source": [
        "#Boolean"
      ],
      "metadata": {
        "id": "kX6miftUBz8g"
      },
      "execution_count": 42,
      "outputs": []
    },
    {
      "cell_type": "code",
      "source": [
        "print(True>False)"
      ],
      "metadata": {
        "colab": {
          "base_uri": "https://localhost:8080/"
        },
        "id": "MNVrsV8qB4yT",
        "outputId": "7fffd400-8785-4078-f539-6d881631c1b5"
      },
      "execution_count": 43,
      "outputs": [
        {
          "output_type": "stream",
          "name": "stdout",
          "text": [
            "True\n"
          ]
        }
      ]
    },
    {
      "cell_type": "code",
      "source": [
        "print(True<False)"
      ],
      "metadata": {
        "colab": {
          "base_uri": "https://localhost:8080/"
        },
        "id": "hE3fxDJUCE1N",
        "outputId": "48e86170-de89-4cb1-cc11-c350935d137b"
      },
      "execution_count": 44,
      "outputs": [
        {
          "output_type": "stream",
          "name": "stdout",
          "text": [
            "False\n"
          ]
        }
      ]
    },
    {
      "cell_type": "code",
      "source": [
        "print(\"Hello\" + \"World\")"
      ],
      "metadata": {
        "colab": {
          "base_uri": "https://localhost:8080/"
        },
        "id": "Ctsj4uyjCHa8",
        "outputId": "03da9b98-f33c-4935-a348-29194bd494c8"
      },
      "execution_count": 45,
      "outputs": [
        {
          "output_type": "stream",
          "name": "stdout",
          "text": [
            "HelloWorld\n"
          ]
        }
      ]
    },
    {
      "cell_type": "code",
      "source": [
        "print(\"Fun\"*1000)"
      ],
      "metadata": {
        "colab": {
          "base_uri": "https://localhost:8080/"
        },
        "id": "S-bxc4PJCjaJ",
        "outputId": "9b3b12b3-301f-4e9b-bff2-5f60ac8372e0"
      },
      "execution_count": 48,
      "outputs": [
        {
          "output_type": "stream",
          "name": "stdout",
          "text": [
            "FunFunFunFunFunFunFunFunFunFunFunFunFunFunFunFunFunFunFunFunFunFunFunFunFunFunFunFunFunFunFunFunFunFunFunFunFunFunFunFunFunFunFunFunFunFunFunFunFunFunFunFunFunFunFunFunFunFunFunFunFunFunFunFunFunFunFunFunFunFunFunFunFunFunFunFunFunFunFunFunFunFunFunFunFunFunFunFunFunFunFunFunFunFunFunFunFunFunFunFunFunFunFunFunFunFunFunFunFunFunFunFunFunFunFunFunFunFunFunFunFunFunFunFunFunFunFunFunFunFunFunFunFunFunFunFunFunFunFunFunFunFunFunFunFunFunFunFunFunFunFunFunFunFunFunFunFunFunFunFunFunFunFunFunFunFunFunFunFunFunFunFunFunFunFunFunFunFunFunFunFunFunFunFunFunFunFunFunFunFunFunFunFunFunFunFunFunFunFunFunFunFunFunFunFunFunFunFunFunFunFunFunFunFunFunFunFunFunFunFunFunFunFunFunFunFunFunFunFunFunFunFunFunFunFunFunFunFunFunFunFunFunFunFunFunFunFunFunFunFunFunFunFunFunFunFunFunFunFunFunFunFunFunFunFunFunFunFunFunFunFunFunFunFunFunFunFunFunFunFunFunFunFunFunFunFunFunFunFunFunFunFunFunFunFunFunFunFunFunFunFunFunFunFunFunFunFunFunFunFunFunFunFunFunFunFunFunFunFunFunFunFunFunFunFunFunFunFunFunFunFunFunFunFunFunFunFunFunFunFunFunFunFunFunFunFunFunFunFunFunFunFunFunFunFunFunFunFunFunFunFunFunFunFunFunFunFunFunFunFunFunFunFunFunFunFunFunFunFunFunFunFunFunFunFunFunFunFunFunFunFunFunFunFunFunFunFunFunFunFunFunFunFunFunFunFunFunFunFunFunFunFunFunFunFunFunFunFunFunFunFunFunFunFunFunFunFunFunFunFunFunFunFunFunFunFunFunFunFunFunFunFunFunFunFunFunFunFunFunFunFunFunFunFunFunFunFunFunFunFunFunFunFunFunFunFunFunFunFunFunFunFunFunFunFunFunFunFunFunFunFunFunFunFunFunFunFunFunFunFunFunFunFunFunFunFunFunFunFunFunFunFunFunFunFunFunFunFunFunFunFunFunFunFunFunFunFunFunFunFunFunFunFunFunFunFunFunFunFunFunFunFunFunFunFunFunFunFunFunFunFunFunFunFunFunFunFunFunFunFunFunFunFunFunFunFunFunFunFunFunFunFunFunFunFunFunFunFunFunFunFunFunFunFunFunFunFunFunFunFunFunFunFunFunFunFunFunFunFunFunFunFunFunFunFunFunFunFunFunFunFunFunFunFunFunFunFunFunFunFunFunFunFunFunFunFunFunFunFunFunFunFunFunFunFunFunFunFunFunFunFunFunFunFunFunFunFunFunFunFunFunFunFunFunFunFunFunFunFunFunFunFunFunFunFunFunFunFunFunFunFunFunFunFunFunFunFunFunFunFunFunFunFunFunFunFunFunFunFunFunFunFunFunFunFunFunFunFunFunFunFunFunFunFunFunFunFunFunFunFunFunFunFunFunFunFunFunFunFunFunFunFunFunFunFunFunFunFunFunFunFunFunFunFunFunFunFunFunFunFunFunFunFunFunFunFunFunFunFunFunFunFunFunFunFunFunFunFunFunFunFunFunFunFunFunFunFunFunFunFunFunFunFunFunFunFunFunFunFunFunFunFunFunFunFunFunFunFunFunFunFunFunFunFunFunFunFunFunFunFunFunFunFunFunFunFunFunFunFunFunFunFunFunFunFunFunFunFunFunFunFunFunFunFunFunFunFunFunFunFunFunFunFunFunFunFunFunFunFunFunFunFunFunFunFunFunFunFunFunFunFunFunFunFunFunFunFunFunFunFunFunFunFunFunFunFunFunFunFunFunFunFunFunFunFunFunFunFunFunFunFunFunFunFunFunFunFunFunFunFunFunFunFunFunFunFunFunFunFunFunFunFunFunFunFunFunFunFunFunFunFunFunFunFunFunFunFunFunFunFunFunFunFunFunFunFunFunFunFunFunFunFunFunFunFunFunFunFunFunFunFunFunFunFunFunFunFunFunFunFunFunFunFunFunFunFunFunFunFunFunFunFunFunFunFunFunFunFunFunFunFunFunFunFunFunFunFunFunFunFunFunFunFunFunFunFunFunFunFunFunFunFunFunFunFunFunFunFunFunFunFunFunFunFunFunFunFunFunFunFun\n"
          ]
        }
      ]
    },
    {
      "cell_type": "code",
      "source": [
        "print(5%2)"
      ],
      "metadata": {
        "colab": {
          "base_uri": "https://localhost:8080/"
        },
        "id": "Xaal4E7sCvf1",
        "outputId": "bd772be8-4e17-4bf1-88b3-b07f05f7dc6d"
      },
      "execution_count": 49,
      "outputs": [
        {
          "output_type": "stream",
          "name": "stdout",
          "text": [
            "1\n"
          ]
        }
      ]
    },
    {
      "cell_type": "code",
      "source": [
        "print(10*2)"
      ],
      "metadata": {
        "colab": {
          "base_uri": "https://localhost:8080/"
        },
        "id": "ToSipriBC0m4",
        "outputId": "b01e6837-ba21-4483-c924-4536a2bb6963"
      },
      "execution_count": 50,
      "outputs": [
        {
          "output_type": "stream",
          "name": "stdout",
          "text": [
            "20\n"
          ]
        }
      ]
    },
    {
      "cell_type": "code",
      "source": [
        "\n",
        "print(\"Is 5 less than 3?\", 5 < 3)\n",
        "print(\"Is 5 greater than 3?\", 5 > 3)\n",
        "print(\"Is 5 greater than or equal to 3?\", 5 >= 3)\n",
        "print(\"Is 'Python' equal to 'C++'?\", 'Python' == 'C++')\n",
        "print(\"Is 'Python' equal to 'Python?\", 'Python' == 'Python')"
      ],
      "metadata": {
        "colab": {
          "base_uri": "https://localhost:8080/"
        },
        "id": "GVL66NkSDhZj",
        "outputId": "a2151036-9609-44b2-95ba-b208b0fbfbfc"
      },
      "execution_count": 51,
      "outputs": [
        {
          "output_type": "stream",
          "name": "stdout",
          "text": [
            "Is 5 less than 3? False\n",
            "Is 5 greater than 3? True\n",
            "Is 5 greater than or equal to 3? True\n",
            "Is 'Python' equal to 'C++'? False\n",
            "Is 'Python' equal to 'Python? True\n"
          ]
        }
      ]
    },
    {
      "cell_type": "code",
      "source": [
        "(1>5) and (5==5)"
      ],
      "metadata": {
        "colab": {
          "base_uri": "https://localhost:8080/"
        },
        "id": "WqnNihZ5DwuV",
        "outputId": "fd217f5d-65e1-4754-df95-a62b9bbd9511"
      },
      "execution_count": 52,
      "outputs": [
        {
          "output_type": "execute_result",
          "data": {
            "text/plain": [
              "False"
            ]
          },
          "metadata": {},
          "execution_count": 52
        }
      ]
    },
    {
      "cell_type": "code",
      "source": [
        "(1>5) or (5==5)"
      ],
      "metadata": {
        "colab": {
          "base_uri": "https://localhost:8080/"
        },
        "id": "qNp1fXZhD_cj",
        "outputId": "91b1e593-cb52-43ca-88a3-cfe43665ad80"
      },
      "execution_count": 53,
      "outputs": [
        {
          "output_type": "execute_result",
          "data": {
            "text/plain": [
              "True"
            ]
          },
          "metadata": {},
          "execution_count": 53
        }
      ]
    },
    {
      "cell_type": "code",
      "source": [
        "(\"Yoon==Yoon\") and (5>2)"
      ],
      "metadata": {
        "colab": {
          "base_uri": "https://localhost:8080/"
        },
        "id": "EEtSUB63EFg1",
        "outputId": "bc46d731-f6e7-4374-91a0-15c9a31cff19"
      },
      "execution_count": 54,
      "outputs": [
        {
          "output_type": "execute_result",
          "data": {
            "text/plain": [
              "True"
            ]
          },
          "metadata": {},
          "execution_count": 54
        }
      ]
    },
    {
      "cell_type": "code",
      "source": [
        "#Variables, Expressions, Statements"
      ],
      "metadata": {
        "id": "7cLRSDyREO8f"
      },
      "execution_count": 55,
      "outputs": []
    },
    {
      "cell_type": "code",
      "source": [
        "print (100+5*10)"
      ],
      "metadata": {
        "colab": {
          "base_uri": "https://localhost:8080/"
        },
        "id": "EIciZD1NEZDd",
        "outputId": "6fdc3c81-4f29-4b57-c3d8-e2abfeee8bc0"
      },
      "execution_count": 56,
      "outputs": [
        {
          "output_type": "stream",
          "name": "stdout",
          "text": [
            "150\n"
          ]
        }
      ]
    },
    {
      "cell_type": "code",
      "source": [
        "x=42\n",
        "print(x)"
      ],
      "metadata": {
        "colab": {
          "base_uri": "https://localhost:8080/"
        },
        "id": "U7tmiEolHQTE",
        "outputId": "ae95ea3f-9419-4b88-d6b1-a76b9620a3d9"
      },
      "execution_count": 57,
      "outputs": [
        {
          "output_type": "stream",
          "name": "stdout",
          "text": [
            "42\n"
          ]
        }
      ]
    },
    {
      "cell_type": "code",
      "source": [
        "ironman= ' The contents of Ironman'\n",
        "print(\"Ironman is\", ironman)"
      ],
      "metadata": {
        "colab": {
          "base_uri": "https://localhost:8080/"
        },
        "id": "jcDEfn6OIgeW",
        "outputId": "6401b701-3fd2-419b-a46e-af09ff02cdae"
      },
      "execution_count": 58,
      "outputs": [
        {
          "output_type": "stream",
          "name": "stdout",
          "text": [
            "Ironman is  The contents of Ironman\n"
          ]
        }
      ]
    },
    {
      "cell_type": "code",
      "source": [
        "\n",
        "a = 10\n",
        "a = a + 100\n",
        "a = a * 2\n",
        "a = a - 50\n",
        "print(a)"
      ],
      "metadata": {
        "colab": {
          "base_uri": "https://localhost:8080/"
        },
        "id": "UUIDCXqZJMhU",
        "outputId": "2ddc15b8-6e3b-44b0-cb37-dde42b75782f"
      },
      "execution_count": 59,
      "outputs": [
        {
          "output_type": "stream",
          "name": "stdout",
          "text": [
            "170\n"
          ]
        }
      ]
    },
    {
      "cell_type": "code",
      "source": [
        "\n",
        "print(\"The type of 10 is\", type(10))\n",
        "print(\"The type of 10.5 is\", type(10.5))\n",
        "print(\"The type of 'Python' is:\", type('Python'))"
      ],
      "metadata": {
        "colab": {
          "base_uri": "https://localhost:8080/"
        },
        "id": "XLyu21AlKYbk",
        "outputId": "51498625-307f-4729-84a1-b4d0307de4a9"
      },
      "execution_count": 60,
      "outputs": [
        {
          "output_type": "stream",
          "name": "stdout",
          "text": [
            "The type of 10 is <class 'int'>\n",
            "The type of 10.5 is <class 'float'>\n",
            "The type of 'Python' is: <class 'str'>\n"
          ]
        }
      ]
    },
    {
      "cell_type": "code",
      "source": [
        "crazy=10\n",
        "print(type(crazy))"
      ],
      "metadata": {
        "colab": {
          "base_uri": "https://localhost:8080/"
        },
        "id": "b8SK1wxNKa1Q",
        "outputId": "c7c2521f-1d4f-4364-ac2c-1390a730f274"
      },
      "execution_count": 61,
      "outputs": [
        {
          "output_type": "stream",
          "name": "stdout",
          "text": [
            "<class 'int'>\n"
          ]
        }
      ]
    },
    {
      "cell_type": "code",
      "source": [
        "cd"
      ],
      "metadata": {
        "colab": {
          "base_uri": "https://localhost:8080/"
        },
        "id": "_kG_vsSlKw9q",
        "outputId": "04a44703-845e-4a68-a0b4-cae5f300f81f"
      },
      "execution_count": 62,
      "outputs": [
        {
          "output_type": "stream",
          "name": "stdout",
          "text": [
            "/root\n"
          ]
        }
      ]
    },
    {
      "cell_type": "code",
      "source": [
        "# 1: Use float to convert '6.2' (a string) to a floating-point value. Multiply that value by 3.3 and show the result (you don't have to use the print function)\n",
        "a=float(\"6.2\")\n",
        "a*3.3"
      ],
      "metadata": {
        "colab": {
          "base_uri": "https://localhost:8080/"
        },
        "id": "FHGxHl7aO4mV",
        "outputId": "99da3fd0-e208-4459-a3fc-4d60ec312292"
      },
      "execution_count": 63,
      "outputs": [
        {
          "output_type": "execute_result",
          "data": {
            "text/plain": [
              "20.46"
            ]
          },
          "metadata": {},
          "execution_count": 63
        }
      ]
    },
    {
      "cell_type": "code",
      "source": [
        "# 2: Calculate the sum of 10.8, 12.2 and 0.2, store it in the variable total, then display total’s value.\n",
        "\n",
        "a=10.8+12.2+0.2\n",
        "print(a)"
      ],
      "metadata": {
        "colab": {
          "base_uri": "https://localhost:8080/"
        },
        "id": "dPwP3KA4QLCN",
        "outputId": "957d840b-3d2b-4b60-853c-2b83f04cb461"
      },
      "execution_count": 64,
      "outputs": [
        {
          "output_type": "stream",
          "name": "stdout",
          "text": [
            "23.2\n"
          ]
        }
      ]
    },
    {
      "cell_type": "code",
      "source": [
        "# 3: Evaluate the expression 3 * (4 - 5) with and without parentheses. Are the parentheses redundant?\n",
        "\n",
        "print( 3 * (4 - 5))\n",
        "print( 3 * 4 - 5)\n",
        "\n",
        "#The parentheses are redundant as the answers are different with and without parentheses."
      ],
      "metadata": {
        "colab": {
          "base_uri": "https://localhost:8080/"
        },
        "id": "cS7svM9sQoPx",
        "outputId": "036c0fe8-6d74-40bb-a32b-91d533d99e5c"
      },
      "execution_count": 67,
      "outputs": [
        {
          "output_type": "stream",
          "name": "stdout",
          "text": [
            "-3\n",
            "7\n"
          ]
        }
      ]
    }
  ]
}